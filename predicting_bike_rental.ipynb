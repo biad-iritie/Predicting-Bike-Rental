{
 "cells": [
  {
   "cell_type": "markdown",
   "metadata": {
    "collapsed": true
   },
   "source": [
    "# Predicting Bike Rentals\n",
    "\n",
    "Many U.S. cities have communal bike sharing stations where you can rent bicycles by the hour or day. Washington, D.C. is one of these cities. The District collects detailed data on the number of bicycles people rent by the hour and day.\n",
    "\n",
    "You can have the data from the [University of California, Irvine's website](http://archive.ics.uci.edu/ml/datasets/Bike+Sharing+Dataset)\n",
    "Description of the data : \n",
    "| Column | Description |\n",
    "| ----------- | ----------- |\n",
    "| instant | A unique sequential ID number for each row |\n",
    "| dteday | The date of the rentals |\n",
    "| season | The season in which the rentals occurred |\n",
    "| yr | The year the rentals occurred |\n",
    "| mnth | The month the rentals occurred |\n",
    "| hr | The hour the rentals occurred |\n",
    "| holiday | Whether or not the day was a holiday (0:not holiday ; 1: holiday)|\n",
    "| weekday | TThe day of the week (as a number, 0 to 7) |\n",
    "| workingday | Whether or not the day was a working day |\n",
    "| weathersit | The weather (as a categorical variable) |\n",
    "| temp | The temperature, on a 0-1 scale |\n",
    "| atemp | The adjusted temperature |\n",
    "| hum | The humidity, on a 0-1 scale |\n",
    "| windspeed | The wind speed, on a 0-1 scale |\n",
    "| casual | The number of casual riders (people who hadn't previously signed up with the bike sharing program) |\n",
    "| registered | The number of registered riders (people who had already signed up) |\n",
    "| cnt | The total number of bike rentals (casual + registered) |\n",
    "\n",
    "Our purpose in this project is to predict the total number of bikes people rented in a given hour. You'll predict the cnt column using all of the other columns, except for casual and registered. To accomplish this, you'll create a few different machine learning models and evaluate their performance."
   ]
  },
  {
   "cell_type": "code",
   "execution_count": 1,
   "metadata": {},
   "outputs": [
    {
     "data": {
      "text/html": [
       "<div>\n",
       "<style scoped>\n",
       "    .dataframe tbody tr th:only-of-type {\n",
       "        vertical-align: middle;\n",
       "    }\n",
       "\n",
       "    .dataframe tbody tr th {\n",
       "        vertical-align: top;\n",
       "    }\n",
       "\n",
       "    .dataframe thead th {\n",
       "        text-align: right;\n",
       "    }\n",
       "</style>\n",
       "<table border=\"1\" class=\"dataframe\">\n",
       "  <thead>\n",
       "    <tr style=\"text-align: right;\">\n",
       "      <th></th>\n",
       "      <th>instant</th>\n",
       "      <th>dteday</th>\n",
       "      <th>season</th>\n",
       "      <th>yr</th>\n",
       "      <th>mnth</th>\n",
       "      <th>hr</th>\n",
       "      <th>holiday</th>\n",
       "      <th>weekday</th>\n",
       "      <th>workingday</th>\n",
       "      <th>weathersit</th>\n",
       "      <th>temp</th>\n",
       "      <th>atemp</th>\n",
       "      <th>hum</th>\n",
       "      <th>windspeed</th>\n",
       "      <th>casual</th>\n",
       "      <th>registered</th>\n",
       "      <th>cnt</th>\n",
       "    </tr>\n",
       "  </thead>\n",
       "  <tbody>\n",
       "    <tr>\n",
       "      <th>0</th>\n",
       "      <td>1</td>\n",
       "      <td>2011-01-01</td>\n",
       "      <td>1</td>\n",
       "      <td>0</td>\n",
       "      <td>1</td>\n",
       "      <td>0</td>\n",
       "      <td>0</td>\n",
       "      <td>6</td>\n",
       "      <td>0</td>\n",
       "      <td>1</td>\n",
       "      <td>0.24</td>\n",
       "      <td>0.2879</td>\n",
       "      <td>0.81</td>\n",
       "      <td>0.0</td>\n",
       "      <td>3</td>\n",
       "      <td>13</td>\n",
       "      <td>16</td>\n",
       "    </tr>\n",
       "    <tr>\n",
       "      <th>1</th>\n",
       "      <td>2</td>\n",
       "      <td>2011-01-01</td>\n",
       "      <td>1</td>\n",
       "      <td>0</td>\n",
       "      <td>1</td>\n",
       "      <td>1</td>\n",
       "      <td>0</td>\n",
       "      <td>6</td>\n",
       "      <td>0</td>\n",
       "      <td>1</td>\n",
       "      <td>0.22</td>\n",
       "      <td>0.2727</td>\n",
       "      <td>0.80</td>\n",
       "      <td>0.0</td>\n",
       "      <td>8</td>\n",
       "      <td>32</td>\n",
       "      <td>40</td>\n",
       "    </tr>\n",
       "    <tr>\n",
       "      <th>2</th>\n",
       "      <td>3</td>\n",
       "      <td>2011-01-01</td>\n",
       "      <td>1</td>\n",
       "      <td>0</td>\n",
       "      <td>1</td>\n",
       "      <td>2</td>\n",
       "      <td>0</td>\n",
       "      <td>6</td>\n",
       "      <td>0</td>\n",
       "      <td>1</td>\n",
       "      <td>0.22</td>\n",
       "      <td>0.2727</td>\n",
       "      <td>0.80</td>\n",
       "      <td>0.0</td>\n",
       "      <td>5</td>\n",
       "      <td>27</td>\n",
       "      <td>32</td>\n",
       "    </tr>\n",
       "    <tr>\n",
       "      <th>3</th>\n",
       "      <td>4</td>\n",
       "      <td>2011-01-01</td>\n",
       "      <td>1</td>\n",
       "      <td>0</td>\n",
       "      <td>1</td>\n",
       "      <td>3</td>\n",
       "      <td>0</td>\n",
       "      <td>6</td>\n",
       "      <td>0</td>\n",
       "      <td>1</td>\n",
       "      <td>0.24</td>\n",
       "      <td>0.2879</td>\n",
       "      <td>0.75</td>\n",
       "      <td>0.0</td>\n",
       "      <td>3</td>\n",
       "      <td>10</td>\n",
       "      <td>13</td>\n",
       "    </tr>\n",
       "    <tr>\n",
       "      <th>4</th>\n",
       "      <td>5</td>\n",
       "      <td>2011-01-01</td>\n",
       "      <td>1</td>\n",
       "      <td>0</td>\n",
       "      <td>1</td>\n",
       "      <td>4</td>\n",
       "      <td>0</td>\n",
       "      <td>6</td>\n",
       "      <td>0</td>\n",
       "      <td>1</td>\n",
       "      <td>0.24</td>\n",
       "      <td>0.2879</td>\n",
       "      <td>0.75</td>\n",
       "      <td>0.0</td>\n",
       "      <td>0</td>\n",
       "      <td>1</td>\n",
       "      <td>1</td>\n",
       "    </tr>\n",
       "  </tbody>\n",
       "</table>\n",
       "</div>"
      ],
      "text/plain": [
       "   instant      dteday  season  yr  mnth  hr  holiday  weekday  workingday  \\\n",
       "0        1  2011-01-01       1   0     1   0        0        6           0   \n",
       "1        2  2011-01-01       1   0     1   1        0        6           0   \n",
       "2        3  2011-01-01       1   0     1   2        0        6           0   \n",
       "3        4  2011-01-01       1   0     1   3        0        6           0   \n",
       "4        5  2011-01-01       1   0     1   4        0        6           0   \n",
       "\n",
       "   weathersit  temp   atemp   hum  windspeed  casual  registered  cnt  \n",
       "0           1  0.24  0.2879  0.81        0.0       3          13   16  \n",
       "1           1  0.22  0.2727  0.80        0.0       8          32   40  \n",
       "2           1  0.22  0.2727  0.80        0.0       5          27   32  \n",
       "3           1  0.24  0.2879  0.75        0.0       3          10   13  \n",
       "4           1  0.24  0.2879  0.75        0.0       0           1    1  "
      ]
     },
     "execution_count": 1,
     "metadata": {},
     "output_type": "execute_result"
    }
   ],
   "source": [
    "import pandas as pd\n",
    "import numpy as np\n",
    "import matplotlib.pyplot as plt\n",
    "from sklearn.linear_model import LinearRegression\n",
    "from sklearn.metrics import mean_squared_error\n",
    "from sklearn.tree import DecisionTreeRegressor\n",
    "from sklearn.ensemble import RandomForestRegressor\n",
    "# Read our dataset\n",
    "bike_rentals = pd.read_csv(\"bike_rental_hour.csv\")\n",
    "\n",
    "bike_rentals.head()"
   ]
  },
  {
   "cell_type": "code",
   "execution_count": 2,
   "metadata": {},
   "outputs": [
    {
     "data": {
      "image/png": "[encoded data removed]",
      "text/plain": [
       "<Figure size 432x288 with 1 Axes>"
      ]
     },
     "metadata": {
      "needs_background": "light"
     },
     "output_type": "display_data"
    }
   ],
   "source": [
    "# Let's take a look at the distribution of the total rental\n",
    "plt.hist(bike_rentals[\"cnt\"], bins=8,linewidth=0.5, edgecolor=\"white\")\n",
    "plt.show()"
   ]
  },
  {
   "cell_type": "code",
   "execution_count": 3,
   "metadata": {},
   "outputs": [
    {
     "data": {
      "text/plain": [
       "cnt           1.000000\n",
       "registered    0.972151\n",
       "casual        0.694564\n",
       "temp          0.404772\n",
       "atemp         0.400929\n",
       "hr            0.394071\n",
       "instant       0.278379\n",
       "yr            0.250495\n",
       "season        0.178056\n",
       "mnth          0.120638\n",
       "windspeed     0.093234\n",
       "workingday    0.030284\n",
       "weekday       0.026900\n",
       "holiday      -0.030927\n",
       "weathersit   -0.142426\n",
       "hum          -0.322911\n",
       "Name: cnt, dtype: float64"
      ]
     },
     "execution_count": 3,
     "metadata": {},
     "output_type": "execute_result"
    }
   ],
   "source": [
    "# See how each column is correlated with cnt\n",
    "bike_rentals.corr()[\"cnt\"].sort_values(ascending=False)"
   ]
  },
  {
   "cell_type": "markdown",
   "metadata": {},
   "source": [
    "We can see that *cnt* column is more correlate with *redistered* and *casual* columns. But it's normal this correlation because cnt is derived from them.\n",
    "\n",
    "## Calculating Features\n",
    "To improve the accuracy of our models we're going to introduce new information like create a new column to specify the moment of the day the **hr** column belongs to. That helps the models to understand that certain hours are related."
   ]
  },
  {
   "cell_type": "code",
   "execution_count": 4,
   "metadata": {},
   "outputs": [],
   "source": [
    "def assign_label(hr):\n",
    "    if(hr >= 6 and hr<12):\n",
    "        result = 1\n",
    "    elif(hr >=12 and hr < 18):\n",
    "        result = 2\n",
    "    elif(hr >=18 and hr <24):\n",
    "        result = 3\n",
    "    else: result=4\n",
    "    return result\n",
    "\n",
    "# Apply assign_label to hr column\n",
    "bike_rentals[\"time_label\"] = bike_rentals[\"hr\"].apply(lambda hr: assign_label(hr))\n"
   ]
  },
  {
   "cell_type": "markdown",
   "metadata": {},
   "source": [
    "### Error metric\n",
    "\n",
    "Based on the explorations of the **cnt** column, the column have a continuous numeric data so the best metric is going to be *Mean Squared Error* (MSE)\n",
    "\n",
    "## Splitting the data into Train and Test Sets\n",
    "\n",
    "We're going to use 80% of the rows in the data set to be part of the training set and the remaining rows for the testing set.\n"
   ]
  },
  {
   "cell_type": "code",
   "execution_count": 5,
   "metadata": {},
   "outputs": [],
   "source": [
    "train = bike_rentals.sample(frac = .8)\n",
    "\n",
    "test = bike_rentals.loc[~bike_rentals.index.isin(train.index)]"
   ]
  },
  {
   "cell_type": "markdown",
   "metadata": {},
   "source": [
    "## Applying Linear Regression\n"
   ]
  },
  {
   "cell_type": "code",
   "execution_count": 6,
   "metadata": {},
   "outputs": [
    {
     "name": "stdout",
     "output_type": "stream",
     "text": [
      "{'time_label', 'atemp', 'instant', 'temp', 'yr', 'mnth', 'season', 'weathersit', 'windspeed', 'hum', 'workingday', 'hr', 'weekday', 'holiday'}\n",
      "=========== MSE ==========\n",
      "17719.45927475363\n"
     ]
    }
   ],
   "source": [
    "predictors = set(bike_rentals.columns.difference([\"cnt\",\"casual\",\"dteday\",\"registered\"]))\n",
    "target = \"cnt\"\n",
    "print(predictors)\n",
    "lr = LinearRegression()\n",
    "# Train the model\n",
    "lr.fit(train[predictors],train[target])\n",
    "# Test the model\n",
    "predictions_lr = lr.predict(test[predictors])\n",
    "mse = mean_squared_error(test[target], predictions_lr)\n",
    "print(\"=========== MSE ==========\")\n",
    "print(mse)"
   ]
  },
  {
   "cell_type": "markdown",
   "metadata": {},
   "source": [
    "## Applying Decision Tree Regressor"
   ]
  },
  {
   "cell_type": "code",
   "execution_count": 7,
   "metadata": {},
   "outputs": [
    {
     "name": "stdout",
     "output_type": "stream",
     "text": [
      "=========== MSE with min_samples_leaf= 1 ==========\n",
      "3178.2859608745684\n",
      "=========== MSE with min_samples_leaf= 3 ==========\n",
      "2386.592649836977\n",
      "=========== MSE with min_samples_leaf= 5 ==========\n",
      "2385.5800840717043\n"
     ]
    }
   ],
   "source": [
    "dtr = DecisionTreeRegressor()\n",
    "dtr.fit(train[predictors],train[target])\n",
    "predictions_dtr = dtr.predict(test[predictors])\n",
    "mse = mean_squared_error(test[target],predictions_dtr)\n",
    "print(\"=========== MSE with min_samples_leaf= 1 ==========\")\n",
    "print(mse)\n",
    "\n",
    "dtr = DecisionTreeRegressor(min_samples_leaf=3)\n",
    "dtr.fit(train[predictors],train[target])\n",
    "predictions_dtr = dtr.predict(test[predictors])\n",
    "mse = mean_squared_error(test[target],predictions_dtr)\n",
    "print(\"=========== MSE with min_samples_leaf= 3 ==========\")\n",
    "print(mse)\n",
    "\n",
    "dtr = DecisionTreeRegressor(min_samples_leaf=5)\n",
    "dtr.fit(train[predictors],train[target])\n",
    "predictions_dtr = dtr.predict(test[predictors])\n",
    "mse = mean_squared_error(test[target],predictions_dtr)\n",
    "print(\"=========== MSE with min_samples_leaf= 5 ==========\")\n",
    "print(mse)\n",
    "\n"
   ]
  },
  {
   "cell_type": "markdown",
   "metadata": {},
   "source": [
    "By comparing the 2 models, we can conclure that the **decision tree regressor model** is more accurate than the **linear regression model**. Let's try the **random forest model**\n",
    "## Applying Random Forest Regressor"
   ]
  },
  {
   "cell_type": "code",
   "execution_count": 8,
   "metadata": {},
   "outputs": [
    {
     "name": "stdout",
     "output_type": "stream",
     "text": [
      "=========== MSE with min_samples_leaf= 1 ==========\n",
      "1576.7225443037976\n",
      "=========== MSE with min_samples_leaf= 3 ==========\n",
      "1598.8779587417011\n",
      "=========== MSE with min_samples_leaf= 5 ==========\n",
      "1755.298807347662\n"
     ]
    }
   ],
   "source": [
    "rfr = RandomForestRegressor()\n",
    "rfr.fit(train[predictors],train[target])\n",
    "predictions_rfr = rfr.predict(test[predictors])\n",
    "mse = mean_squared_error(test[target],predictions_rfr)\n",
    "print(\"=========== MSE with min_samples_leaf= 1 ==========\")\n",
    "print(mse)\n",
    "\n",
    "rfr = RandomForestRegressor(min_samples_leaf=3)\n",
    "rfr.fit(train[predictors],train[target])\n",
    "predictions_rfr = rfr.predict(test[predictors])\n",
    "mse = mean_squared_error(test[target],predictions_rfr)\n",
    "print(\"=========== MSE with min_samples_leaf= 3 ==========\")\n",
    "print(mse)\n",
    "\n",
    "rfr = RandomForestRegressor(min_samples_leaf=5)\n",
    "rfr.fit(train[predictors],train[target])\n",
    "predictions_rfr = rfr.predict(test[predictors])\n",
    "mse = mean_squared_error(test[target],predictions_rfr)\n",
    "print(\"=========== MSE with min_samples_leaf= 5 ==========\")\n",
    "print(mse)"
   ]
  },
  {
   "cell_type": "markdown",
   "metadata": {},
   "source": [
    "Knowing that **Random Forests** tend to overfit much less than **Decission Trees**, this explain his higher accuracy.\n",
    "\n",
    "## Changing our target \n",
    "\n",
    "Let's rebuild our models with the origin of our target that is *casual* and *registered* columns and judge the accuracy."
   ]
  },
  {
   "cell_type": "code",
   "execution_count": 9,
   "metadata": {},
   "outputs": [
    {
     "name": "stdout",
     "output_type": "stream",
     "text": [
      "\n",
      " ========== BUILD LINEAR REGRESSION ================= \n",
      "\n",
      "=========== MSE ==========\n",
      "7404.115291093519\n",
      "\n",
      " ========== BUILD DECISION TREE REGRESSOR ================= \n",
      "\n",
      "=========== MSE with min_samples_leaf= 1 ==========\n",
      "1225.0563866513235\n",
      "=========== MSE with min_samples_leaf= 3 ==========\n",
      "1040.890102768188\n",
      "=========== MSE with min_samples_leaf= 5 ==========\n",
      "1057.5460792383271\n",
      "\n",
      " ========== BUILD RANDOM FOREST REGRESSOR ================= \n",
      "\n",
      "=========== MSE with min_samples_leaf= 1 ==========\n",
      "722.0272021145\n",
      "=========== MSE with min_samples_leaf= 3 ==========\n",
      "761.3535568769928\n",
      "=========== MSE with min_samples_leaf= 5 ==========\n",
      "826.6169309812587\n"
     ]
    }
   ],
   "source": [
    "target = [\"casual\",\"registered\"]\n",
    "print(\"\\n ========== BUILD LINEAR REGRESSION ================= \\n\")\n",
    "lr = LinearRegression()\n",
    "# Train the model\n",
    "lr.fit(train[predictors],train[target])\n",
    "# Test the model\n",
    "predictions_lr = lr.predict(test[predictors])\n",
    "print(\"=========== MSE ==========\")\n",
    "mse = mean_squared_error(test[target], predictions_lr)\n",
    "print(mse)\n",
    "print(\"\\n ========== BUILD DECISION TREE REGRESSOR ================= \\n\")\n",
    "dtr = DecisionTreeRegressor()\n",
    "dtr.fit(train[predictors],train[target])\n",
    "predictions_dtr = dtr.predict(test[predictors])\n",
    "mse = mean_squared_error(test[target],predictions_dtr)\n",
    "print(\"=========== MSE with min_samples_leaf= 1 ==========\")\n",
    "print(mse)\n",
    "\n",
    "dtr = DecisionTreeRegressor(min_samples_leaf=3)\n",
    "dtr.fit(train[predictors],train[target])\n",
    "predictions_dtr = dtr.predict(test[predictors])\n",
    "mse = mean_squared_error(test[target],predictions_dtr)\n",
    "print(\"=========== MSE with min_samples_leaf= 3 ==========\")\n",
    "print(mse)\n",
    "\n",
    "dtr = DecisionTreeRegressor(min_samples_leaf=5)\n",
    "dtr.fit(train[predictors],train[target])\n",
    "predictions_dtr = dtr.predict(test[predictors])\n",
    "mse = mean_squared_error(test[target],predictions_dtr)\n",
    "print(\"=========== MSE with min_samples_leaf= 5 ==========\")\n",
    "print(mse)\n",
    "print(\"\\n ========== BUILD RANDOM FOREST REGRESSOR ================= \\n\")\n",
    "rfr = RandomForestRegressor()\n",
    "rfr.fit(train[predictors],train[target])\n",
    "predictions_rfr = rfr.predict(test[predictors])\n",
    "mse = mean_squared_error(test[target],predictions_rfr)\n",
    "print(\"=========== MSE with min_samples_leaf= 1 ==========\")\n",
    "print(mse)\n",
    "\n",
    "rfr = RandomForestRegressor(min_samples_leaf=3)\n",
    "rfr.fit(train[predictors],train[target])\n",
    "predictions_rfr = rfr.predict(test[predictors])\n",
    "mse = mean_squared_error(test[target],predictions_rfr)\n",
    "print(\"=========== MSE with min_samples_leaf= 3 ==========\")\n",
    "print(mse)\n",
    "\n",
    "rfr = RandomForestRegressor(min_samples_leaf=5)\n",
    "rfr.fit(train[predictors],train[target])\n",
    "predictions_rfr = rfr.predict(test[predictors])\n",
    "mse = mean_squared_error(test[target],predictions_rfr)\n",
    "print(\"=========== MSE with min_samples_leaf= 5 ==========\")\n",
    "print(mse)"
   ]
  },
  {
   "cell_type": "markdown",
   "metadata": {},
   "source": [
    "By the result, we can say the changement of target really improve the accuracy of our models so the best choice as target is the combination of *casual* and *registered* column"
   ]
  }
 ],
 "metadata": {
  "kernelspec": {
   "display_name": "data_science",
   "language": "python",
   "name": "data_science"
  },
  "language_info": {
   "codemirror_mode": {
    "name": "ipython",
    "version": 3
   },
   "file_extension": ".py",
   "mimetype": "text/x-python",
   "name": "python",
   "nbconvert_exporter": "python",
   "pygments_lexer": "ipython3",
   "version": "3.7.10"
  }
 },
 "nbformat": 4,
 "nbformat_minor": 0
}
